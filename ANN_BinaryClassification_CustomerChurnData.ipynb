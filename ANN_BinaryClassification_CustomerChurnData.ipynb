{
  "nbformat": 4,
  "nbformat_minor": 0,
  "metadata": {
    "colab": {
      "provenance": [],
      "collapsed_sections": []
    },
    "kernelspec": {
      "name": "python3",
      "display_name": "Python 3"
    },
    "language_info": {
      "name": "python"
    }
  },
  "cells": [
    {
      "cell_type": "markdown",
      "source": [
        "#***16. ANN (Artificial Neural Network)***\n",
        "# 1. Binary classification \n",
        "\n",
        "---\n",
        "\n"
      ],
      "metadata": {
        "id": "NwCygIjk_pwa"
      }
    },
    {
      "cell_type": "code",
      "source": [
        "X.head(3)\n",
        "X.columns\n",
        "x_train.head(3)\n",
        "y_train.head(3)"
      ],
      "metadata": {
        "colab": {
          "base_uri": "https://localhost:8080/",
          "height": 143
        },
        "id": "7EMhAQ4PFfqR",
        "outputId": "357372f7-21d8-4816-9fa0-ae74b436a68f"
      },
      "execution_count": null,
      "outputs": [
        {
          "output_type": "execute_result",
          "data": {
            "text/plain": [
              "      Churn\n",
              "6030      1\n",
              "3410      1\n",
              "5483      1"
            ],
            "text/html": [
              "\n",
              "  <div id=\"df-6feea8f2-fa63-4c61-84c8-e7f349f1e493\">\n",
              "    <div class=\"colab-df-container\">\n",
              "      <div>\n",
              "<style scoped>\n",
              "    .dataframe tbody tr th:only-of-type {\n",
              "        vertical-align: middle;\n",
              "    }\n",
              "\n",
              "    .dataframe tbody tr th {\n",
              "        vertical-align: top;\n",
              "    }\n",
              "\n",
              "    .dataframe thead th {\n",
              "        text-align: right;\n",
              "    }\n",
              "</style>\n",
              "<table border=\"1\" class=\"dataframe\">\n",
              "  <thead>\n",
              "    <tr style=\"text-align: right;\">\n",
              "      <th></th>\n",
              "      <th>Churn</th>\n",
              "    </tr>\n",
              "  </thead>\n",
              "  <tbody>\n",
              "    <tr>\n",
              "      <th>6030</th>\n",
              "      <td>1</td>\n",
              "    </tr>\n",
              "    <tr>\n",
              "      <th>3410</th>\n",
              "      <td>1</td>\n",
              "    </tr>\n",
              "    <tr>\n",
              "      <th>5483</th>\n",
              "      <td>1</td>\n",
              "    </tr>\n",
              "  </tbody>\n",
              "</table>\n",
              "</div>\n",
              "      <button class=\"colab-df-convert\" onclick=\"convertToInteractive('df-6feea8f2-fa63-4c61-84c8-e7f349f1e493')\"\n",
              "              title=\"Convert this dataframe to an interactive table.\"\n",
              "              style=\"display:none;\">\n",
              "        \n",
              "  <svg xmlns=\"http://www.w3.org/2000/svg\" height=\"24px\"viewBox=\"0 0 24 24\"\n",
              "       width=\"24px\">\n",
              "    <path d=\"M0 0h24v24H0V0z\" fill=\"none\"/>\n",
              "    <path d=\"M18.56 5.44l.94 2.06.94-2.06 2.06-.94-2.06-.94-.94-2.06-.94 2.06-2.06.94zm-11 1L8.5 8.5l.94-2.06 2.06-.94-2.06-.94L8.5 2.5l-.94 2.06-2.06.94zm10 10l.94 2.06.94-2.06 2.06-.94-2.06-.94-.94-2.06-.94 2.06-2.06.94z\"/><path d=\"M17.41 7.96l-1.37-1.37c-.4-.4-.92-.59-1.43-.59-.52 0-1.04.2-1.43.59L10.3 9.45l-7.72 7.72c-.78.78-.78 2.05 0 2.83L4 21.41c.39.39.9.59 1.41.59.51 0 1.02-.2 1.41-.59l7.78-7.78 2.81-2.81c.8-.78.8-2.07 0-2.86zM5.41 20L4 18.59l7.72-7.72 1.47 1.35L5.41 20z\"/>\n",
              "  </svg>\n",
              "      </button>\n",
              "      \n",
              "  <style>\n",
              "    .colab-df-container {\n",
              "      display:flex;\n",
              "      flex-wrap:wrap;\n",
              "      gap: 12px;\n",
              "    }\n",
              "\n",
              "    .colab-df-convert {\n",
              "      background-color: #E8F0FE;\n",
              "      border: none;\n",
              "      border-radius: 50%;\n",
              "      cursor: pointer;\n",
              "      display: none;\n",
              "      fill: #1967D2;\n",
              "      height: 32px;\n",
              "      padding: 0 0 0 0;\n",
              "      width: 32px;\n",
              "    }\n",
              "\n",
              "    .colab-df-convert:hover {\n",
              "      background-color: #E2EBFA;\n",
              "      box-shadow: 0px 1px 2px rgba(60, 64, 67, 0.3), 0px 1px 3px 1px rgba(60, 64, 67, 0.15);\n",
              "      fill: #174EA6;\n",
              "    }\n",
              "\n",
              "    [theme=dark] .colab-df-convert {\n",
              "      background-color: #3B4455;\n",
              "      fill: #D2E3FC;\n",
              "    }\n",
              "\n",
              "    [theme=dark] .colab-df-convert:hover {\n",
              "      background-color: #434B5C;\n",
              "      box-shadow: 0px 1px 3px 1px rgba(0, 0, 0, 0.15);\n",
              "      filter: drop-shadow(0px 1px 2px rgba(0, 0, 0, 0.3));\n",
              "      fill: #FFFFFF;\n",
              "    }\n",
              "  </style>\n",
              "\n",
              "      <script>\n",
              "        const buttonEl =\n",
              "          document.querySelector('#df-6feea8f2-fa63-4c61-84c8-e7f349f1e493 button.colab-df-convert');\n",
              "        buttonEl.style.display =\n",
              "          google.colab.kernel.accessAllowed ? 'block' : 'none';\n",
              "\n",
              "        async function convertToInteractive(key) {\n",
              "          const element = document.querySelector('#df-6feea8f2-fa63-4c61-84c8-e7f349f1e493');\n",
              "          const dataTable =\n",
              "            await google.colab.kernel.invokeFunction('convertToInteractive',\n",
              "                                                     [key], {});\n",
              "          if (!dataTable) return;\n",
              "\n",
              "          const docLinkHtml = 'Like what you see? Visit the ' +\n",
              "            '<a target=\"_blank\" href=https://colab.research.google.com/notebooks/data_table.ipynb>data table notebook</a>'\n",
              "            + ' to learn more about interactive tables.';\n",
              "          element.innerHTML = '';\n",
              "          dataTable['output_type'] = 'display_data';\n",
              "          await google.colab.output.renderOutput(dataTable, element);\n",
              "          const docLink = document.createElement('div');\n",
              "          docLink.innerHTML = docLinkHtml;\n",
              "          element.appendChild(docLink);\n",
              "        }\n",
              "      </script>\n",
              "    </div>\n",
              "  </div>\n",
              "  "
            ]
          },
          "metadata": {},
          "execution_count": 604
        }
      ]
    },
    {
      "cell_type": "code",
      "source": [
        "Y.head(3)"
      ],
      "metadata": {
        "colab": {
          "base_uri": "https://localhost:8080/",
          "height": 143
        },
        "id": "98zPijCzIIWl",
        "outputId": "117a6aac-eea4-45bc-862c-3eafe86b78db"
      },
      "execution_count": null,
      "outputs": [
        {
          "output_type": "execute_result",
          "data": {
            "text/plain": [
              "   Churn\n",
              "0      0\n",
              "1      0\n",
              "2      1"
            ],
            "text/html": [
              "\n",
              "  <div id=\"df-9da9a1d2-ce15-46b9-8108-187334c0c1c9\">\n",
              "    <div class=\"colab-df-container\">\n",
              "      <div>\n",
              "<style scoped>\n",
              "    .dataframe tbody tr th:only-of-type {\n",
              "        vertical-align: middle;\n",
              "    }\n",
              "\n",
              "    .dataframe tbody tr th {\n",
              "        vertical-align: top;\n",
              "    }\n",
              "\n",
              "    .dataframe thead th {\n",
              "        text-align: right;\n",
              "    }\n",
              "</style>\n",
              "<table border=\"1\" class=\"dataframe\">\n",
              "  <thead>\n",
              "    <tr style=\"text-align: right;\">\n",
              "      <th></th>\n",
              "      <th>Churn</th>\n",
              "    </tr>\n",
              "  </thead>\n",
              "  <tbody>\n",
              "    <tr>\n",
              "      <th>0</th>\n",
              "      <td>0</td>\n",
              "    </tr>\n",
              "    <tr>\n",
              "      <th>1</th>\n",
              "      <td>0</td>\n",
              "    </tr>\n",
              "    <tr>\n",
              "      <th>2</th>\n",
              "      <td>1</td>\n",
              "    </tr>\n",
              "  </tbody>\n",
              "</table>\n",
              "</div>\n",
              "      <button class=\"colab-df-convert\" onclick=\"convertToInteractive('df-9da9a1d2-ce15-46b9-8108-187334c0c1c9')\"\n",
              "              title=\"Convert this dataframe to an interactive table.\"\n",
              "              style=\"display:none;\">\n",
              "        \n",
              "  <svg xmlns=\"http://www.w3.org/2000/svg\" height=\"24px\"viewBox=\"0 0 24 24\"\n",
              "       width=\"24px\">\n",
              "    <path d=\"M0 0h24v24H0V0z\" fill=\"none\"/>\n",
              "    <path d=\"M18.56 5.44l.94 2.06.94-2.06 2.06-.94-2.06-.94-.94-2.06-.94 2.06-2.06.94zm-11 1L8.5 8.5l.94-2.06 2.06-.94-2.06-.94L8.5 2.5l-.94 2.06-2.06.94zm10 10l.94 2.06.94-2.06 2.06-.94-2.06-.94-.94-2.06-.94 2.06-2.06.94z\"/><path d=\"M17.41 7.96l-1.37-1.37c-.4-.4-.92-.59-1.43-.59-.52 0-1.04.2-1.43.59L10.3 9.45l-7.72 7.72c-.78.78-.78 2.05 0 2.83L4 21.41c.39.39.9.59 1.41.59.51 0 1.02-.2 1.41-.59l7.78-7.78 2.81-2.81c.8-.78.8-2.07 0-2.86zM5.41 20L4 18.59l7.72-7.72 1.47 1.35L5.41 20z\"/>\n",
              "  </svg>\n",
              "      </button>\n",
              "      \n",
              "  <style>\n",
              "    .colab-df-container {\n",
              "      display:flex;\n",
              "      flex-wrap:wrap;\n",
              "      gap: 12px;\n",
              "    }\n",
              "\n",
              "    .colab-df-convert {\n",
              "      background-color: #E8F0FE;\n",
              "      border: none;\n",
              "      border-radius: 50%;\n",
              "      cursor: pointer;\n",
              "      display: none;\n",
              "      fill: #1967D2;\n",
              "      height: 32px;\n",
              "      padding: 0 0 0 0;\n",
              "      width: 32px;\n",
              "    }\n",
              "\n",
              "    .colab-df-convert:hover {\n",
              "      background-color: #E2EBFA;\n",
              "      box-shadow: 0px 1px 2px rgba(60, 64, 67, 0.3), 0px 1px 3px 1px rgba(60, 64, 67, 0.15);\n",
              "      fill: #174EA6;\n",
              "    }\n",
              "\n",
              "    [theme=dark] .colab-df-convert {\n",
              "      background-color: #3B4455;\n",
              "      fill: #D2E3FC;\n",
              "    }\n",
              "\n",
              "    [theme=dark] .colab-df-convert:hover {\n",
              "      background-color: #434B5C;\n",
              "      box-shadow: 0px 1px 3px 1px rgba(0, 0, 0, 0.15);\n",
              "      filter: drop-shadow(0px 1px 2px rgba(0, 0, 0, 0.3));\n",
              "      fill: #FFFFFF;\n",
              "    }\n",
              "  </style>\n",
              "\n",
              "      <script>\n",
              "        const buttonEl =\n",
              "          document.querySelector('#df-9da9a1d2-ce15-46b9-8108-187334c0c1c9 button.colab-df-convert');\n",
              "        buttonEl.style.display =\n",
              "          google.colab.kernel.accessAllowed ? 'block' : 'none';\n",
              "\n",
              "        async function convertToInteractive(key) {\n",
              "          const element = document.querySelector('#df-9da9a1d2-ce15-46b9-8108-187334c0c1c9');\n",
              "          const dataTable =\n",
              "            await google.colab.kernel.invokeFunction('convertToInteractive',\n",
              "                                                     [key], {});\n",
              "          if (!dataTable) return;\n",
              "\n",
              "          const docLinkHtml = 'Like what you see? Visit the ' +\n",
              "            '<a target=\"_blank\" href=https://colab.research.google.com/notebooks/data_table.ipynb>data table notebook</a>'\n",
              "            + ' to learn more about interactive tables.';\n",
              "          element.innerHTML = '';\n",
              "          dataTable['output_type'] = 'display_data';\n",
              "          await google.colab.output.renderOutput(dataTable, element);\n",
              "          const docLink = document.createElement('div');\n",
              "          docLink.innerHTML = docLinkHtml;\n",
              "          element.appendChild(docLink);\n",
              "        }\n",
              "      </script>\n",
              "    </div>\n",
              "  </div>\n",
              "  "
            ]
          },
          "metadata": {},
          "execution_count": 605
        }
      ]
    },
    {
      "cell_type": "code",
      "source": [
        "import tensorflow\n",
        "from tensorflow import keras \n",
        "from tensorflow.keras import Sequential\n",
        "from tensorflow.keras.layers import Dense"
      ],
      "metadata": {
        "id": "sZ78vNOn_w_j"
      },
      "execution_count": null,
      "outputs": []
    },
    {
      "cell_type": "code",
      "source": [
        "classifier_ann = Sequential() #The Sequential class allows us to build ANN but as a sequence of layers. "
      ],
      "metadata": {
        "id": "uLnkgW6l_-nx"
      },
      "execution_count": null,
      "outputs": []
    },
    {
      "cell_type": "code",
      "source": [
        "from keras.layers.serialization import activation\n",
        "classifier_ann.add(Dense(3, activation = 'sigmoid',input_dim = 26 )) #Add the input layer and the first hidden layer\n",
        "#Object Dense will create layers , it is input layer , 3 = # of layers , 26*3 = 78\n",
        "#Dense is the famous class in Tensorflow. Dense is used to add fully connected layer in ANN.\n",
        "#“add” is the method in the Sequential Class. output_dim represents the number of hidden neurons in the hidden layer."
      ],
      "metadata": {
        "id": "tRgHe8JOABQz"
      },
      "execution_count": null,
      "outputs": []
    },
    {
      "cell_type": "code",
      "source": [
        "classifier_ann.add(Dense(1, activation = 'sigmoid')) #add the output layer \n",
        "# 1*3 = 3 + 78 = 81 "
      ],
      "metadata": {
        "id": "K1mgK6ctAKwk"
      },
      "execution_count": null,
      "outputs": []
    },
    {
      "cell_type": "code",
      "source": [
        "classifier_ann.summary()"
      ],
      "metadata": {
        "colab": {
          "base_uri": "https://localhost:8080/"
        },
        "id": "JKlfn-4bGuzT",
        "outputId": "439a45cb-34fe-4925-e134-50021fa6eaf3"
      },
      "execution_count": null,
      "outputs": [
        {
          "output_type": "stream",
          "name": "stdout",
          "text": [
            "Model: \"sequential_5\"\n",
            "_________________________________________________________________\n",
            " Layer (type)                Output Shape              Param #   \n",
            "=================================================================\n",
            " dense_11 (Dense)            (None, 3)                 81        \n",
            "                                                                 \n",
            " dense_12 (Dense)            (None, 1)                 4         \n",
            "                                                                 \n",
            "=================================================================\n",
            "Total params: 85\n",
            "Trainable params: 85\n",
            "Non-trainable params: 0\n",
            "_________________________________________________________________\n"
          ]
        }
      ]
    },
    {
      "cell_type": "code",
      "source": [
        "classifier_ann.compile(loss='binary_crossentropy', optimizer='Adam' ,metrics=['accuracy']) #For evaluating our ANN model, use Accuracy metrics. And that’s why metrics = [‘accuracy’].\n",
        "#compile is a method of Tensorflow. “adam’ is the optimizer that can perform the stochastic gradient descent. "
      ],
      "metadata": {
        "id": "EpotPwHrJVcp"
      },
      "execution_count": null,
      "outputs": []
    },
    {
      "cell_type": "code",
      "source": [
        "history = classifier_ann.fit(x_train, y_train , epochs=10 ,validation_split=0.2) # trainig stage of ANN model "
      ],
      "metadata": {
        "colab": {
          "base_uri": "https://localhost:8080/"
        },
        "id": "TXZZwiaPJvp6",
        "outputId": "215bace7-081b-4549-b849-60d3501620f1"
      },
      "execution_count": null,
      "outputs": [
        {
          "output_type": "stream",
          "name": "stdout",
          "text": [
            "Epoch 1/10\n",
            "141/141 [==============================] - 1s 4ms/step - loss: 0.4956 - accuracy: 0.7649 - val_loss: 0.4876 - val_accuracy: 0.7538\n",
            "Epoch 2/10\n",
            "141/141 [==============================] - 0s 3ms/step - loss: 0.4940 - accuracy: 0.7684 - val_loss: 0.4935 - val_accuracy: 0.7547\n",
            "Epoch 3/10\n",
            "141/141 [==============================] - 0s 3ms/step - loss: 0.4938 - accuracy: 0.7658 - val_loss: 0.4986 - val_accuracy: 0.7591\n",
            "Epoch 4/10\n",
            "141/141 [==============================] - 0s 3ms/step - loss: 0.4878 - accuracy: 0.7676 - val_loss: 0.4821 - val_accuracy: 0.7547\n",
            "Epoch 5/10\n",
            "141/141 [==============================] - 0s 3ms/step - loss: 0.4869 - accuracy: 0.7678 - val_loss: 0.4874 - val_accuracy: 0.7556\n",
            "Epoch 6/10\n",
            "141/141 [==============================] - 0s 3ms/step - loss: 0.4903 - accuracy: 0.7684 - val_loss: 0.5265 - val_accuracy: 0.7556\n",
            "Epoch 7/10\n",
            "141/141 [==============================] - 0s 3ms/step - loss: 0.4822 - accuracy: 0.7682 - val_loss: 0.4670 - val_accuracy: 0.7769\n",
            "Epoch 8/10\n",
            "141/141 [==============================] - 0s 3ms/step - loss: 0.4777 - accuracy: 0.7682 - val_loss: 0.4694 - val_accuracy: 0.7689\n",
            "Epoch 9/10\n",
            "141/141 [==============================] - 0s 3ms/step - loss: 0.4760 - accuracy: 0.7680 - val_loss: 0.4733 - val_accuracy: 0.7680\n",
            "Epoch 10/10\n",
            "141/141 [==============================] - 0s 3ms/step - loss: 0.4805 - accuracy: 0.7684 - val_loss: 0.4608 - val_accuracy: 0.7769\n"
          ]
        }
      ]
    },
    {
      "cell_type": "code",
      "source": [
        "classifier_ann.layers[0].get_weights()"
      ],
      "metadata": {
        "colab": {
          "base_uri": "https://localhost:8080/"
        },
        "id": "DoCMS_-dKVCO",
        "outputId": "969f3897-b374-4df3-cfe1-677ab713bd02"
      },
      "execution_count": null,
      "outputs": [
        {
          "output_type": "execute_result",
          "data": {
            "text/plain": [
              "[array([[-0.7737063 ,  0.25631183,  0.11525933],\n",
              "        [ 0.11470339, -0.8460988 , -0.33824274],\n",
              "        [-0.4529826 ,  0.31229913, -0.05556864],\n",
              "        [-0.73239696,  0.5572738 ,  0.19749348],\n",
              "        [-0.08723442, -0.36182094, -0.25110012],\n",
              "        [-1.1535685 , -0.06326672, -0.23448652],\n",
              "        [ 0.22793764,  0.11059491, -0.11383548],\n",
              "        [-0.13547654,  0.28148806, -0.03746644],\n",
              "        [ 0.11402511, -0.11870154,  0.04028668],\n",
              "        [-0.12099788,  0.26406243, -0.5006638 ],\n",
              "        [-0.00325772,  0.21388915,  0.5440019 ],\n",
              "        [ 0.49107602, -0.16103554, -0.5430625 ],\n",
              "        [ 0.44800958, -0.42785534, -0.09597056],\n",
              "        [ 0.0747029 , -0.6234381 ,  0.27618775],\n",
              "        [ 0.22101466, -0.08690608,  0.064709  ],\n",
              "        [-0.01819218,  0.05694092, -0.1394119 ],\n",
              "        [-0.02534445, -0.38610077, -0.6055665 ],\n",
              "        [ 0.2246412 , -0.93945116, -0.58104837],\n",
              "        [-1.314925  ,  0.02313938,  0.13784583],\n",
              "        [-0.6004249 ,  0.287358  ,  0.41121587],\n",
              "        [-0.98020566, -0.07553409,  0.597206  ],\n",
              "        [-1.0796678 ,  0.18824069, -0.21849966],\n",
              "        [-0.49565113, -0.08428343,  0.48744768],\n",
              "        [-0.09505682,  0.47303304,  0.55454856],\n",
              "        [ 0.6035758 , -0.55376   ,  0.05986831],\n",
              "        [-0.654981  , -0.11738261, -0.28272784]], dtype=float32),\n",
              " array([-0.7154187 ,  0.03947473,  0.09246679], dtype=float32)]"
            ]
          },
          "metadata": {},
          "execution_count": 613
        }
      ]
    },
    {
      "cell_type": "code",
      "source": [
        "classifier_ann.layers[1].get_weights()"
      ],
      "metadata": {
        "colab": {
          "base_uri": "https://localhost:8080/"
        },
        "id": "RUWnBSHzKuL3",
        "outputId": "658ece28-abd7-4335-9cd0-0880f3341b61"
      },
      "execution_count": null,
      "outputs": [
        {
          "output_type": "execute_result",
          "data": {
            "text/plain": [
              "[array([[ 1.1991361 ],\n",
              "        [-1.3036402 ],\n",
              "        [-0.64400375]], dtype=float32), array([-0.21221633], dtype=float32)]"
            ]
          },
          "metadata": {},
          "execution_count": 614
        }
      ]
    },
    {
      "cell_type": "code",
      "source": [
        "y_log = classifier_ann.predict(x_test) # we didnt get output as 0 or 2 because we are using sigmid function . and between o to 1 , it will be a probability"
      ],
      "metadata": {
        "colab": {
          "base_uri": "https://localhost:8080/"
        },
        "id": "ICllk1k-LBpq",
        "outputId": "4fff00aa-2847-4956-ef90-c00375973804"
      },
      "execution_count": null,
      "outputs": [
        {
          "output_type": "stream",
          "name": "stdout",
          "text": [
            "44/44 [==============================] - 0s 2ms/step\n"
          ]
        }
      ]
    },
    {
      "cell_type": "code",
      "source": [
        "# for converting it into 0-1 we need to decide a threeshold  , here it is assumed as 0.5 , so if op is grater than 0.5 then custoemr will churn \n",
        "y_pred = np.where(y_log>0.5,1,0)"
      ],
      "metadata": {
        "id": "-ie0BJI2LhzJ"
      },
      "execution_count": null,
      "outputs": []
    },
    {
      "cell_type": "code",
      "source": [
        "from sklearn.metrics import accuracy_score\n",
        "accuracy_score(y_test,y_pred)"
      ],
      "metadata": {
        "colab": {
          "base_uri": "https://localhost:8080/"
        },
        "id": "M1HLLxOIMYxv",
        "outputId": "308002f8-b112-4633-91b0-da02119cba30"
      },
      "execution_count": null,
      "outputs": [
        {
          "output_type": "execute_result",
          "data": {
            "text/plain": [
              "0.7697228144989339"
            ]
          },
          "metadata": {},
          "execution_count": 617
        }
      ]
    },
    {
      "cell_type": "code",
      "source": [
        "history.history"
      ],
      "metadata": {
        "colab": {
          "base_uri": "https://localhost:8080/"
        },
        "id": "tW6Yu4egM12c",
        "outputId": "8b3e3224-6394-4a56-ec4b-8f2eda247e4a"
      },
      "execution_count": null,
      "outputs": [
        {
          "output_type": "execute_result",
          "data": {
            "text/plain": [
              "{'loss': [0.49555251002311707,\n",
              "  0.49402159452438354,\n",
              "  0.49380576610565186,\n",
              "  0.48778364062309265,\n",
              "  0.48688775300979614,\n",
              "  0.4903198182582855,\n",
              "  0.4821608066558838,\n",
              "  0.4776555299758911,\n",
              "  0.4760439991950989,\n",
              "  0.480467826128006],\n",
              " 'accuracy': [0.7648888826370239,\n",
              "  0.7684444189071655,\n",
              "  0.7657777667045593,\n",
              "  0.7675555348396301,\n",
              "  0.7677778005599976,\n",
              "  0.7684444189071655,\n",
              "  0.7682222127914429,\n",
              "  0.7682222127914429,\n",
              "  0.7680000066757202,\n",
              "  0.7684444189071655],\n",
              " 'val_loss': [0.4876457154750824,\n",
              "  0.4934520423412323,\n",
              "  0.4985749125480652,\n",
              "  0.4821072518825531,\n",
              "  0.48739904165267944,\n",
              "  0.5264777541160583,\n",
              "  0.4669783115386963,\n",
              "  0.4694284498691559,\n",
              "  0.4733212888240814,\n",
              "  0.4608185887336731],\n",
              " 'val_accuracy': [0.753777801990509,\n",
              "  0.7546666860580444,\n",
              "  0.7591111063957214,\n",
              "  0.7546666860580444,\n",
              "  0.7555555701255798,\n",
              "  0.7555555701255798,\n",
              "  0.776888906955719,\n",
              "  0.7688888907432556,\n",
              "  0.7680000066757202,\n",
              "  0.776888906955719]}"
            ]
          },
          "metadata": {},
          "execution_count": 619
        }
      ]
    },
    {
      "cell_type": "code",
      "source": [
        "plt.plot(history.history['loss'])\n",
        "plt.plot(history.history['val_loss'])"
      ],
      "metadata": {
        "colab": {
          "base_uri": "https://localhost:8080/",
          "height": 282
        },
        "id": "sqUJfkcLP5IY",
        "outputId": "25d55397-1252-4d07-db2f-5f1e9d6ea9f7"
      },
      "execution_count": null,
      "outputs": [
        {
          "output_type": "execute_result",
          "data": {
            "text/plain": [
              "[<matplotlib.lines.Line2D at 0x7f9891e59b90>]"
            ]
          },
          "metadata": {},
          "execution_count": 621
        },
        {
          "output_type": "display_data",
          "data": {
            "text/plain": [
              "<Figure size 432x288 with 1 Axes>"
            ],
            "image/png": "[encoded data removed]"
          },
          "metadata": {
            "needs_background": "light"
          }
        }
      ]
    },
    {
      "cell_type": "code",
      "source": [
        "plt.plot(history.history['accuracy'])\n",
        "plt.plot(history.history['val_accuracy'])"
      ],
      "metadata": {
        "colab": {
          "base_uri": "https://localhost:8080/",
          "height": 282
        },
        "id": "BTefI_jGQnR6",
        "outputId": "39bc61d8-a343-410a-841b-f3bf3fc4030e"
      },
      "execution_count": null,
      "outputs": [
        {
          "output_type": "execute_result",
          "data": {
            "text/plain": [
              "[<matplotlib.lines.Line2D at 0x7f9891dd5910>]"
            ]
          },
          "metadata": {},
          "execution_count": 622
        },
        {
          "output_type": "display_data",
          "data": {
            "text/plain": [
              "<Figure size 432x288 with 1 Axes>"
            ],
            "image/png": "[encoded data removed]"
          },
          "metadata": {
            "needs_background": "light"
          }
        }
      ]
    }
  ]
}